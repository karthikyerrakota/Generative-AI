{
 "cells": [
  {
   "cell_type": "code",
   "execution_count": 4,
   "id": "b8ac23dd-035b-4d6b-aa19-aa06d919855f",
   "metadata": {},
   "outputs": [],
   "source": [
    "!pip install -q tokenizers transformers torch"
   ]
  },
  {
   "cell_type": "code",
   "execution_count": 3,
   "id": "92d432a2-a7a3-4e58-869c-78b1a9256975",
   "metadata": {},
   "outputs": [],
   "source": []
  },
  {
   "cell_type": "code",
   "execution_count": null,
   "id": "2c04312b-1cc6-49ab-90c1-59fbbcf6c01f",
   "metadata": {},
   "outputs": [],
   "source": []
  }
 ],
 "metadata": {
  "kernelspec": {
   "display_name": "Python 3 (ipykernel)",
   "language": "python",
   "name": "python3"
  },
  "language_info": {
   "codemirror_mode": {
    "name": "ipython",
    "version": 3
   },
   "file_extension": ".py",
   "mimetype": "text/x-python",
   "name": "python",
   "nbconvert_exporter": "python",
   "pygments_lexer": "ipython3",
   "version": "3.13.1"
  }
 },
 "nbformat": 4,
 "nbformat_minor": 5
}
