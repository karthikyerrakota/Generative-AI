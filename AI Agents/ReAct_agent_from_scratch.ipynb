{
 "cells": [
  {
   "cell_type": "markdown",
   "id": "c862c7e3-ce42-46e1-bd9b-c4ecc4b13626",
   "metadata": {},
   "source": [
    "#### This Notebook is based on my learnings from the below sources \n",
    "##### 1. https://til.simonwillison.net/llms/python-react-pattern\n",
    "##### 2. AI Agents in LangGraph, from deeplearning.ai\n",
    "\n",
    "##### In this notebook we will code a ReAct Agent from scratch."
   ]
  },
  {
   "cell_type": "code",
   "execution_count": 52,
   "id": "3c7d73ac",
   "metadata": {},
   "outputs": [],
   "source": [
    "import openai\n",
    "from openai import OpenAI\n",
    "from dotenv import load_dotenv\n",
    "import os"
   ]
  },
  {
   "cell_type": "code",
   "execution_count": 53,
   "id": "ec869b2b",
   "metadata": {},
   "outputs": [],
   "source": [
    "# Load environment variables from .env file.\n",
    "load_dotenv()\n",
    "# load your openai api key from .env file\n",
    "openai_key = os.getenv(\"API_KEY\")\n",
    "client = OpenAI(api_key=openai_key)"
   ]
  },
  {
   "cell_type": "code",
   "execution_count": 54,
   "id": "65405cde-abc0-4e70-aef1-f8f7304c2d5d",
   "metadata": {},
   "outputs": [],
   "source": [
    "# lets crearte an Agent class with system prompt as a parameter, which will allow the user to input the system prompt as needed."
   ]
  },
  {
   "cell_type": "code",
   "execution_count": 56,
   "id": "d3c09444",
   "metadata": {},
   "outputs": [],
   "source": [
    "class Agent:\n",
    "    def __init__(self, system=\"\"):\n",
    "        self.system = system\n",
    "        self.messages = [] # messages are saved in this list to keep track of messages over time.\n",
    "        if self.system:\n",
    "            self.messages.append({\"role\": \"system\", \"content\": system}) # system message is the instructions that we provide to llm.\n",
    "\n",
    "    def __call__(self, message):\n",
    "        self.messages.append({\"role\": \"user\", \"content\": message}) # user message is what the user will the agent to do.\n",
    "        result = self.execute()\n",
    "        self.messages.append({\"role\": \"assistant\", \"content\": result}) # assistant message is what the llm returns for the user query.\n",
    "        return result\n",
    "\n",
    "    def execute(self):\n",
    "        completion = client.chat.completions.create(\n",
    "                        model=\"gpt-4o\", \n",
    "                        temperature=0,\n",
    "                        messages=self.messages)\n",
    "        return completion.choices[0].message.content\n",
    "    "
   ]
  },
  {
   "cell_type": "code",
   "execution_count": 57,
   "id": "e7795753",
   "metadata": {},
   "outputs": [],
   "source": [
    "# ReAct prompt that we give to the llm as system message. \n",
    "\n",
    "system_prompt = '''You operate in a loop of Thought, Action, PAUSE, Observation.  \n",
    "At the end of the loop, you output an Answer.  \n",
    "\n",
    "Use Thought to describe your reasoning about the question you've been asked.  \n",
    "Use Action to execute one of the available actions and then return PAUSE.  \n",
    "Observation will be the result of running that action.  \n",
    "\n",
    "While answering First try to look at the given tools only.\n",
    "\n",
    "Your available actions are:  \n",
    "\n",
    "1. **calculate**:  \n",
    "   e.g., calculate: (5 + 3) * 2  \n",
    "   Executes a mathematical operation and returns the result.  \n",
    "\n",
    "2. **get_employee_salary**:  \n",
    "   e.g., get_employee_salary: 30  \n",
    "   Takes the employee name and return the salary.  \n",
    "\n",
    "3. **get_employee_name**:  \n",
    "   e.g., get_employee_name: karthik  \n",
    "   Takes the id of the employee and provide the Name.  \n",
    "\n",
    "### Example Session:  \n",
    "\n",
    "Question: What is the salary of Ritu?  \n",
    "Thought: I need to look up the Salary of Ritu.  \n",
    "Action: get_employee_salary: Ritu  \n",
    "PAUSE\n",
    "\n",
    "When called again with:  \n",
    "\n",
    "Observation: The salary of Ritu is 20.  \n",
    "\n",
    "You then output:  \n",
    "Answer: The salary of Ritu is 20.  \n",
    "\n",
    "Question: What is 12 * 8 + 5?  \n",
    "Thought: I should perform this calculation using the calculate tool.  \n",
    "Action: calculate: 12 * 8 + 5  \n",
    "PAUSE \n",
    "\n",
    "You will be called again with:  \n",
    "\n",
    "Observation: The result is 101.  \n",
    "\n",
    "You then output:  \n",
    "Answer: The result of 12 * 8 + 5 is 101.  \n",
    "\n",
    "'''.strip()"
   ]
  },
  {
   "cell_type": "code",
   "execution_count": 81,
   "id": "bed6751a",
   "metadata": {},
   "outputs": [],
   "source": [
    "## These are the tools/Functions that the llm use to get the answer to user query.\n",
    "\n",
    "def calculate(what):\n",
    "    return eval(what)\n",
    "\n",
    "def get_employee_salary(employee_name):\n",
    "    '''Takes the employee name and return the salary'''\n",
    "    \n",
    "    if 'rahul' in employee_name.lower():\n",
    "        return '40'\n",
    "    else:\n",
    "        return '20'\n",
    "        \n",
    "def get_employee_name(employee_id):\n",
    "    '''Takes the id of the employee and provide the Name'''\n",
    "    \n",
    "    if 'ad241' in employee_id.lower():\n",
    "        return 'Rahul'\n",
    "    else:\n",
    "        return 'other'\n",
    "    \n",
    "known_actions = {\"calculate\":calculate,\n",
    "                 \"get_employee_salary\":get_employee_salary,\n",
    "                 \"get_employee_name\":get_employee_name\n",
    "                }"
   ]
  },
  {
   "cell_type": "code",
   "execution_count": 42,
   "id": "bbba6106",
   "metadata": {},
   "outputs": [
    {
     "name": "stdout",
     "output_type": "stream",
     "text": [
      "Thought: I need to look up the salary of Ratan.  \n",
      "Action: get_employee_salary: Ratan  \n",
      "PAUSE\n"
     ]
    }
   ],
   "source": [
    "# user query\n",
    "user_prompt = 'What is the salary of Ratan'\n",
    "abot = Agent(system_prompt)\n",
    "result = abot(user_prompt)\n",
    "print(result)\n",
    "\n",
    "# Notice how the llm output only till 'Action' but not the final answer. \n",
    "# This is because in the system prompt we asked it to pause after identifying the action.\n",
    "# After that we manually provide the Action to next function.\n"
   ]
  },
  {
   "cell_type": "code",
   "execution_count": 43,
   "id": "9077156e-3aac-42ee-aaa1-0cae4939f897",
   "metadata": {},
   "outputs": [],
   "source": [
    "# In the above output the llm is asking to pass 'Ratan' in 'get_employee_salary' tool(function). Lets do that."
   ]
  },
  {
   "cell_type": "code",
   "execution_count": 44,
   "id": "d2c825b4",
   "metadata": {},
   "outputs": [
    {
     "data": {
      "text/plain": [
       "'20'"
      ]
     },
     "execution_count": 44,
     "metadata": {},
     "output_type": "execute_result"
    }
   ],
   "source": [
    "result = get_employee_salary(\"Ratan\")\n",
    "result\n",
    "# Now with this result we pass this to the llm again to get the final answer."
   ]
  },
  {
   "cell_type": "code",
   "execution_count": 45,
   "id": "bc97336f",
   "metadata": {},
   "outputs": [
    {
     "data": {
      "text/plain": [
       "'Answer: The salary of Ratan is 20.'"
      ]
     },
     "execution_count": 45,
     "metadata": {},
     "output_type": "execute_result"
    }
   ],
   "source": [
    "next_prompt = \"Observation: {}\".format(result)\n",
    "abot(next_prompt)"
   ]
  },
  {
   "cell_type": "code",
   "execution_count": 27,
   "id": "51ba98f7",
   "metadata": {
    "scrolled": true
   },
   "outputs": [
    {
     "data": {
      "text/plain": [
       "[{'role': 'system',\n",
       "  'content': \"You operate in a loop of Thought, Action, PAUSE, Observation.  \\nAt the end of the loop, you output an Answer.  \\n\\nUse Thought to describe your reasoning about the question you've been asked.  \\nUse Action to execute one of the available actions and then return PAUSE.  \\nObservation will be the result of running that action.  \\n\\nWhile answering First try to look at the given tools only.\\n\\nYour available actions are:  \\n\\n1. **calculate**:  \\n   e.g., calculate: (5 + 3) * 2  \\n   Executes a mathematical operation and returns the result.  \\n\\n2. **get_employee_salary**:  \\n   e.g., get_employee_salary: 30  \\n   Takes the employee name and return the salary.  \\n\\n3. **get_employee_name**:  \\n   e.g., get_employee_name: karthik  \\n   Takes the id of the employee and provide the Name.  \\n\\n### Example Session:  \\n\\nQuestion: What is the salary of Ritu?  \\nThought: I need to look up the Salary of Ritu.  \\nAction: get_employee_salary: Ritu  \\nPAUSE\\n\\nWhen called again with:  \\n\\nObservation: The salary of Ritu is 20.  \\n\\nYou then output:  \\nAnswer: The salary of Ritu is 20.  \\n\\nQuestion: What is 12 * 8 + 5?  \\nThought: I should perform this calculation using the calculate tool.  \\nAction: calculate: 12 * 8 + 5  \\nPAUSE \\n\\nYou will be called again with:  \\n\\nObservation: The result is 101.  \\n\\nYou then output:  \\nAnswer: The result of 12 * 8 + 5 is 101.\"},\n",
       " {'role': 'user', 'content': 'What is the salary of Ratan'},\n",
       " {'role': 'assistant',\n",
       "  'content': 'Thought: I need to look up the Salary of Ratan.  \\nAction: get_employee_salary: Ratan  \\nPAUSE'},\n",
       " {'role': 'user', 'content': 'Observation: 20'},\n",
       " {'role': 'assistant', 'content': 'Answer: The salary of Ratan is 20.'}]"
      ]
     },
     "execution_count": 27,
     "metadata": {},
     "output_type": "execute_result"
    }
   ],
   "source": [
    "# You can see the list of messages here and how llm responds at each step\n",
    "abot.messages"
   ]
  },
  {
   "cell_type": "code",
   "execution_count": 46,
   "id": "7398b325",
   "metadata": {},
   "outputs": [
    {
     "name": "stdout",
     "output_type": "stream",
     "text": [
      "Thought: I need to find the salaries of Rahul and Saurabh first, and then calculate their average.  \n",
      "Action: get_employee_salary: Rahul  \n",
      "PAUSE\n",
      "Thought: I have found the salary of Rahul, which is 40. Now, I need to find the salary of Saurabh.  \n",
      "Action: get_employee_salary: Saurabh  \n",
      "PAUSE\n",
      "Thought: I have found the salaries of Rahul and Saurabh. Rahul's salary is 40, and Saurabh's salary is 20. Now, I need to calculate their average salary.  \n",
      "Action: calculate: (40 + 20) / 2  \n",
      "PAUSE\n"
     ]
    }
   ],
   "source": [
    "### new user prompt\n",
    "user_prompt = 'What is the average salary of Rahul and Saurabh?'\n",
    "abot = Agent(system_prompt)\n",
    "result = abot(user_prompt)\n",
    "print(result)\n",
    "\n",
    "result1 = get_employee_salary('Rahul')\n",
    "next_prompt1 = \"Observation: {}\".format(result1)\n",
    "result2 = abot(next_prompt1)\n",
    "print(result2)\n",
    "\n",
    "result2 = get_employee_salary('Saurabh')\n",
    "next_prompt2 = \"Observation: {}\".format(result2)\n",
    "result3 = abot(next_prompt2)\n",
    "print(result3)"
   ]
  },
  {
   "cell_type": "code",
   "execution_count": 47,
   "id": "063a993e",
   "metadata": {},
   "outputs": [
    {
     "name": "stdout",
     "output_type": "stream",
     "text": [
      "Answer: The average salary of Rahul and Saurabh is 30.0.\n"
     ]
    }
   ],
   "source": [
    "result4 = calculate('(40 + 20) / 2')\n",
    "next_prompt4 = \"Observation: {}\".format(result4)\n",
    "result5 = abot(next_prompt4)\n",
    "print(result5)"
   ]
  },
  {
   "cell_type": "markdown",
   "id": "679d07b0",
   "metadata": {},
   "source": [
    "### Autmate the process."
   ]
  },
  {
   "cell_type": "code",
   "execution_count": 84,
   "id": "c023dc0e-8162-4015-83e2-0b3803f5537c",
   "metadata": {},
   "outputs": [],
   "source": [
    "## lets automate the above steps in a loop, without manual intervention.\n",
    "## The function below is nothing but an AI Agent."
   ]
  },
  {
   "cell_type": "code",
   "execution_count": 82,
   "id": "e830b660",
   "metadata": {},
   "outputs": [],
   "source": [
    "import re\n",
    "action_re = re.compile(r'^Action: (\\w+): (.*)$')\n",
    "\n",
    "def query_now(question,max_loop=6):\n",
    "    i=0\n",
    "    abot = Agent(system_prompt)\n",
    "    next_prompt = question\n",
    "    \n",
    "    while i < max_loop:\n",
    "        i += 1\n",
    "        result = abot(next_prompt)\n",
    "        print(result)\n",
    "        actions = [\n",
    "            action_re.match(a) \n",
    "            for a in result.split('\\n') \n",
    "            if action_re.match(a)\n",
    "        ]\n",
    "        print(actions)\n",
    "        if actions:\n",
    "            # There is an action to run\n",
    "            action, action_input = actions[0].groups()\n",
    "            if action not in known_actions:\n",
    "                raise Exception(\"Unknown action: {}: {}\".format(action, action_input))\n",
    "            print(\" -- running {} {}\".format(action, action_input))\n",
    "            observation = known_actions[action](action_input)\n",
    "            print(\"Observation:\", observation)\n",
    "            next_prompt = \"Observation: {}\".format(observation)\n",
    "        else:\n",
    "            return"
   ]
  },
  {
   "cell_type": "code",
   "execution_count": 83,
   "id": "3de81b27",
   "metadata": {},
   "outputs": [
    {
     "name": "stdout",
     "output_type": "stream",
     "text": [
      "Thought: I need to find the salary of Karthik and the employee with ID AD241, then calculate their average salary. First, I'll get the salary of Karthik.  \n",
      "Action: get_employee_salary: Karthik  \n",
      "PAUSE\n",
      "[<re.Match object; span=(0, 38), match='Action: get_employee_salary: Karthik  '>]\n",
      " -- running get_employee_salary Karthik  \n",
      "Observation: 20\n",
      "Thought: The salary of Karthik is 20. Now, I need to find the name of the employee with ID AD241 to get their salary.  \n",
      "Action: get_employee_name: AD241  \n",
      "PAUSE\n",
      "[<re.Match object; span=(0, 34), match='Action: get_employee_name: AD241  '>]\n",
      " -- running get_employee_name AD241  \n",
      "Observation: Rahul\n",
      "Thought: The employee with ID AD241 is Rahul. Now, I need to find the salary of Rahul.  \n",
      "Action: get_employee_salary: Rahul  \n",
      "PAUSE\n",
      "[<re.Match object; span=(0, 36), match='Action: get_employee_salary: Rahul  '>]\n",
      " -- running get_employee_salary Rahul  \n",
      "Observation: 40\n",
      "Thought: The salary of Rahul is 40. Now, I will calculate the average salary of Karthik and Rahul.  \n",
      "Action: calculate: (20 + 40) / 2  \n",
      "PAUSE\n",
      "[<re.Match object; span=(0, 34), match='Action: calculate: (20 + 40) / 2  '>]\n",
      " -- running calculate (20 + 40) / 2  \n",
      "Observation: 30.0\n",
      "Answer: The average salary of Karthik and the employee with ID AD241 (Rahul) is 30.0.\n",
      "[]\n"
     ]
    }
   ],
   "source": [
    "question = 'What is the Average salary of Karthik and employee id AD241?'\n",
    "\n",
    "query_now(question)\n"
   ]
  },
  {
   "cell_type": "code",
   "execution_count": null,
   "id": "0953b289-50c5-4137-9ee5-fa14d530e70c",
   "metadata": {},
   "outputs": [],
   "source": []
  }
 ],
 "metadata": {
  "kernelspec": {
   "display_name": "Python 3 (ipykernel)",
   "language": "python",
   "name": "python3"
  },
  "language_info": {
   "codemirror_mode": {
    "name": "ipython",
    "version": 3
   },
   "file_extension": ".py",
   "mimetype": "text/x-python",
   "name": "python",
   "nbconvert_exporter": "python",
   "pygments_lexer": "ipython3",
   "version": "3.13.1"
  }
 },
 "nbformat": 4,
 "nbformat_minor": 5
}
