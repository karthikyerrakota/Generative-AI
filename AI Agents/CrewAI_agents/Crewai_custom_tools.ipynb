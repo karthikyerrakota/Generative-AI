{
 "cells": [
  {
   "cell_type": "code",
   "execution_count": 1,
   "id": "1f81470e-432f-4d83-930d-066018b358c5",
   "metadata": {},
   "outputs": [],
   "source": [
    "# In this Notebook we will create custom tools in crew ai and use that to answer the queries\n",
    "# The tools that we are going to create are : calculator tool, get_employee_name_from_id tool and get_employee_salary tool"
   ]
  },
  {
   "cell_type": "code",
   "execution_count": 6,
   "id": "6f3df535-3b87-4d25-9ce5-b0b011e43538",
   "metadata": {},
   "outputs": [],
   "source": [
    "from crewai import Agent, Task, Crew, LLM\n",
    "from crewai.tools import BaseTool"
   ]
  },
  {
   "cell_type": "code",
   "execution_count": 4,
   "id": "5769910e-ae23-460e-bb0f-3a1a7c0f5b44",
   "metadata": {},
   "outputs": [],
   "source": [
    "openai_api_key = 'your-openai-api-key' # or load from .env file\n",
    "model_name = 'gpt-3.5-turbo'\n",
    "\n",
    "llm = LLM(model=model_name,api_key=openai_api_key)"
   ]
  },
  {
   "cell_type": "code",
   "execution_count": 28,
   "id": "bce90404-cf65-427a-86dc-87763493a088",
   "metadata": {},
   "outputs": [],
   "source": [
    "# custom tools\n",
    "# A custom tool needs name and description.\n",
    "\n",
    "class calc_tool(BaseTool):\n",
    "    \n",
    "    name : str = \"calc_tool\"\n",
    "    description : str = (\"Takes the given expression and calcuates the output.\")\n",
    "\n",
    "    def _run(self,what:str):\n",
    "        return eval(what)\n",
    "\n",
    "class GetEmployeeSalary(BaseTool):\n",
    "    \n",
    "    name : str = \"Get Employee Salary\"\n",
    "    description : str = (\"Takes the employee name and return the salary\")\n",
    "\n",
    "    def _run(self,employee_name:str):\n",
    "        if 'rahul' in employee_name.lower():\n",
    "            return '40LPA'\n",
    "        else:\n",
    "            return '20LPA'\n",
    "\n",
    "\n",
    "class GetEmployeeNameFromID(BaseTool):\n",
    "    \n",
    "    name : str = \"Get Employee Name From ID\"\n",
    "    description : str = (\"Takes the employee id and return the employee name\")\n",
    "\n",
    "    def _run(self,employee_id:str):\n",
    "        if 'ad241' in employee_id.lower():\n",
    "            return 'Rahul'\n",
    "        else:\n",
    "            return 'other'"
   ]
  },
  {
   "cell_type": "code",
   "execution_count": 29,
   "id": "d41bd81f-16e1-4e82-976e-00d4e044cb56",
   "metadata": {},
   "outputs": [],
   "source": [
    "calc_tool = calc_tool()\n",
    "employee_salary_tool = GetEmployeeSalary()\n",
    "employee_name_tool = GetEmployeeNameFromID()"
   ]
  },
  {
   "cell_type": "code",
   "execution_count": 30,
   "id": "b872859d-7051-4a6b-a57d-282b42c4327b",
   "metadata": {},
   "outputs": [],
   "source": [
    "query_agent = Agent(role=\"Lead HR\",\n",
    "                    goal=\"Answer the user question based on the tools available.\",\n",
    "                    backstory=\"You work as Lead HR in Sigmoid analytics\"\n",
    "                               \"You have access to certain tool that would help answer the given answer\"\n",
    "                               \"If you cant answer the question, just say i dont know the answer in a polite manner.\"\n",
    "                               \"Dont try to imagine the answer\",\n",
    "                    tools=[calc_tool,employee_salary_tool,employee_name_tool],\n",
    "                    llm=llm,verbose=True)\n"
   ]
  },
  {
   "cell_type": "code",
   "execution_count": 31,
   "id": "3566e4ca-6d3e-46e6-890c-111ba5042cdc",
   "metadata": {},
   "outputs": [],
   "source": [
    "claculating_task = Task(description=\"Answers the given user query : {query} using the tools available\",\n",
    "                       expected_output=\"Answer for the user query.\"\n",
    "                        \"User may give an employee name or employee id\"\n",
    "                        \"when user gives employee id first convert that to name using tools\"\n",
    "                        \"then try to answer the query.\",\n",
    "                       tools=[calc_tool,employee_salary_tool,employee_name_tool],\n",
    "                       agent = query_agent)"
   ]
  },
  {
   "cell_type": "code",
   "execution_count": 32,
   "id": "c5d6c922-7595-48fd-9b76-e89a54070551",
   "metadata": {},
   "outputs": [
    {
     "name": "stderr",
     "output_type": "stream",
     "text": [
      "2025-01-12 15:38:51,034 - 8471115008 - __init__.py-__init__:537 - WARNING: Overriding of current TracerProvider is not allowed\n"
     ]
    }
   ],
   "source": [
    "crew = Crew(tasks=[claculating_task],agents=[query_agent],verbose=True)"
   ]
  },
  {
   "cell_type": "code",
   "execution_count": 25,
   "id": "602e0572-b7ba-4c4d-99bd-3322c8c59df5",
   "metadata": {},
   "outputs": [
    {
     "name": "stdout",
     "output_type": "stream",
     "text": [
      "\u001b[1m\u001b[95m# Agent:\u001b[00m \u001b[1m\u001b[92mLead HR\u001b[00m\n",
      "\u001b[95m## Task:\u001b[00m \u001b[92mAnswers the given user query : What is the average salary of Karthik and Rahul? using the tools available\u001b[00m\n",
      "\u001b[91m \n",
      "\n",
      "I encountered an error while trying to use the tool. This was the error: Arguments validation failed: 1 validation error for GetEmployeeSalarySchema\n",
      "employee_name\n",
      "  Field required [type=missing, input_value={'employee_id': 'Karthik'}, input_type=dict]\n",
      "    For further information visit https://errors.pydantic.dev/2.10/v/missing.\n",
      " Tool Get Employee Salary accepts these inputs: Tool Name: Get Employee Salary\n",
      "Tool Arguments: {'employee_name': {'description': None, 'type': 'str'}}\n",
      "Tool Description: Takes the employee name and return the salary\n",
      "\u001b[00m\n",
      "\n",
      "\n",
      "\u001b[1m\u001b[95m# Agent:\u001b[00m \u001b[1m\u001b[92mLead HR\u001b[00m\n",
      "\u001b[95m## Thought:\u001b[00m \u001b[92mI need to first convert the employee names \"Karthik\" and \"Rahul\" to their respective employee IDs to find their salaries and then calculate the average salary.\u001b[00m\n",
      "\u001b[95m## Using tool:\u001b[00m \u001b[92mGet Employee Salary\u001b[00m\n",
      "\u001b[95m## Tool Input:\u001b[00m \u001b[92m\n",
      "\"{\\\"employee_id\\\": \\\"Karthik\\\"}\"\u001b[00m\n",
      "\u001b[95m## Tool Output:\u001b[00m \u001b[92m\n",
      "\n",
      "I encountered an error while trying to use the tool. This was the error: Arguments validation failed: 1 validation error for GetEmployeeSalarySchema\n",
      "employee_name\n",
      "  Field required [type=missing, input_value={'employee_id': 'Karthik'}, input_type=dict]\n",
      "    For further information visit https://errors.pydantic.dev/2.10/v/missing.\n",
      " Tool Get Employee Salary accepts these inputs: Tool Name: Get Employee Salary\n",
      "Tool Arguments: {'employee_name': {'description': None, 'type': 'str'}}\n",
      "Tool Description: Takes the employee name and return the salary.\n",
      "Moving on then. I MUST either use a tool (use one at time) OR give my best final answer not both at the same time. To Use the following format:\n",
      "\n",
      "Thought: you should always think about what to do\n",
      "Action: the action to take, should be one of [calc_tool, Get Employee Salary, Get Employee Salary]\n",
      "Action Input: the input to the action, dictionary enclosed in curly braces\n",
      "Observation: the result of the action\n",
      "... (this Thought/Action/Action Input/Result can repeat N times)\n",
      "Thought: I now can give a great answer\n",
      "Final Answer: Your final answer must be the great and the most complete as possible, it must be outcome described\n",
      "\n",
      "\u001b[00m\n",
      "\n",
      "\n",
      "\u001b[1m\u001b[95m# Agent:\u001b[00m \u001b[1m\u001b[92mLead HR\u001b[00m\n",
      "\u001b[95m## Using tool:\u001b[00m \u001b[92mGet Employee Salary\u001b[00m\n",
      "\u001b[95m## Tool Input:\u001b[00m \u001b[92m\n",
      "\"{\\\"employee_name\\\": \\\"Karthik\\\"}\"\u001b[00m\n",
      "\u001b[95m## Tool Output:\u001b[00m \u001b[92m\n",
      "20LPA\u001b[00m\n",
      "\n",
      "\n",
      "\u001b[1m\u001b[95m# Agent:\u001b[00m \u001b[1m\u001b[92mLead HR\u001b[00m\n",
      "\u001b[95m## Using tool:\u001b[00m \u001b[92mGet Employee Salary\u001b[00m\n",
      "\u001b[95m## Tool Input:\u001b[00m \u001b[92m\n",
      "\"{\\\"employee_name\\\": \\\"Rahul\\\"}\"\u001b[00m\n",
      "\u001b[95m## Tool Output:\u001b[00m \u001b[92m\n",
      "40LPA\u001b[00m\n",
      "\n",
      "\n",
      "\u001b[1m\u001b[95m# Agent:\u001b[00m \u001b[1m\u001b[92mLead HR\u001b[00m\n",
      "\u001b[95m## Using tool:\u001b[00m \u001b[92mcalc_tool\u001b[00m\n",
      "\u001b[95m## Tool Input:\u001b[00m \u001b[92m\n",
      "\"{\\\"what\\\": \\\"(20+40)/2\\\"}\"\u001b[00m\n",
      "\u001b[95m## Tool Output:\u001b[00m \u001b[92m\n",
      "30.0\n",
      "\n",
      "\n",
      "You ONLY have access to the following tools, and should NEVER make up tools that are not listed here:\n",
      "\n",
      "Tool Name: calc_tool\n",
      "Tool Arguments: {'what': {'description': None, 'type': 'str'}}\n",
      "Tool Description: Takes the given expression and calcuates the output.\n",
      "Tool Name: Get Employee Salary\n",
      "Tool Arguments: {'employee_name': {'description': None, 'type': 'str'}}\n",
      "Tool Description: Takes the employee name and return the salary\n",
      "Tool Name: Get Employee Salary\n",
      "Tool Arguments: {'employee_id': {'description': None, 'type': 'str'}}\n",
      "Tool Description: Takes the employee id and return the employee name\n",
      "\n",
      "Use the following format:\n",
      "\n",
      "Thought: you should always think about what to do\n",
      "Action: the action to take, only one name of [calc_tool, Get Employee Salary, Get Employee Salary], just the name, exactly as it's written.\n",
      "Action Input: the input to the action, just a simple python dictionary, enclosed in curly braces, using \" to wrap keys and values.\n",
      "Observation: the result of the action\n",
      "\n",
      "Once all necessary information is gathered:\n",
      "\n",
      "Thought: I now know the final answer\n",
      "Final Answer: the final answer to the original input question\n",
      "\u001b[00m\n",
      "\n",
      "\n",
      "\u001b[1m\u001b[95m# Agent:\u001b[00m \u001b[1m\u001b[92mLead HR\u001b[00m\n",
      "\u001b[95m## Final Answer:\u001b[00m \u001b[92m\n",
      "The average salary of Karthik and Rahul is 30.0 LPA.\u001b[00m\n",
      "\n",
      "\n"
     ]
    }
   ],
   "source": [
    "inputs = {\n",
    "    \"query\": \"What is the average salary of Karthik and Rahul?\"\n",
    "}\n",
    "result = crew.kickoff(inputs=inputs)"
   ]
  },
  {
   "cell_type": "code",
   "execution_count": 33,
   "id": "af50641d-44a4-43c9-88cd-aa7ef0debf3e",
   "metadata": {},
   "outputs": [
    {
     "name": "stdout",
     "output_type": "stream",
     "text": [
      "\u001b[1m\u001b[95m# Agent:\u001b[00m \u001b[1m\u001b[92mLead HR\u001b[00m\n",
      "\u001b[95m## Task:\u001b[00m \u001b[92mAnswers the given user query : What is the average salary of Karthik and employee id AD241? using the tools available\u001b[00m\n",
      "\n",
      "\n",
      "\u001b[1m\u001b[95m# Agent:\u001b[00m \u001b[1m\u001b[92mLead HR\u001b[00m\n",
      "\u001b[95m## Thought:\u001b[00m \u001b[92mI need to first convert the employee ID \"AD241\" to the employee name using the available tools, and then find the average salary of both Karthik and the employee with ID \"AD241\".\u001b[00m\n",
      "\u001b[95m## Using tool:\u001b[00m \u001b[92mGet Employee Name From ID\u001b[00m\n",
      "\u001b[95m## Tool Input:\u001b[00m \u001b[92m\n",
      "\"{\\\"employee_id\\\": \\\"AD241\\\"}\"\u001b[00m\n",
      "\u001b[95m## Tool Output:\u001b[00m \u001b[92m\n",
      "Rahul\u001b[00m\n",
      "\n",
      "\n",
      "\u001b[1m\u001b[95m# Agent:\u001b[00m \u001b[1m\u001b[92mLead HR\u001b[00m\n",
      "\u001b[95m## Using tool:\u001b[00m \u001b[92mGet Employee Salary\u001b[00m\n",
      "\u001b[95m## Tool Input:\u001b[00m \u001b[92m\n",
      "\"{\\\"employee_name\\\": \\\"Karthik\\\"}\"\u001b[00m\n",
      "\u001b[95m## Tool Output:\u001b[00m \u001b[92m\n",
      "20LPA\u001b[00m\n",
      "\n",
      "\n",
      "\u001b[1m\u001b[95m# Agent:\u001b[00m \u001b[1m\u001b[92mLead HR\u001b[00m\n",
      "\u001b[95m## Using tool:\u001b[00m \u001b[92mGet Employee Salary\u001b[00m\n",
      "\u001b[95m## Tool Input:\u001b[00m \u001b[92m\n",
      "\"{\\\"employee_name\\\": \\\"Rahul\\\"}\"\u001b[00m\n",
      "\u001b[95m## Tool Output:\u001b[00m \u001b[92m\n",
      "40LPA\n",
      "\n",
      "\n",
      "You ONLY have access to the following tools, and should NEVER make up tools that are not listed here:\n",
      "\n",
      "Tool Name: calc_tool\n",
      "Tool Arguments: {'what': {'description': None, 'type': 'str'}}\n",
      "Tool Description: Takes the given expression and calcuates the output.\n",
      "Tool Name: Get Employee Salary\n",
      "Tool Arguments: {'employee_name': {'description': None, 'type': 'str'}}\n",
      "Tool Description: Takes the employee name and return the salary\n",
      "Tool Name: Get Employee Name From ID\n",
      "Tool Arguments: {'employee_id': {'description': None, 'type': 'str'}}\n",
      "Tool Description: Takes the employee id and return the employee name\n",
      "\n",
      "Use the following format:\n",
      "\n",
      "Thought: you should always think about what to do\n",
      "Action: the action to take, only one name of [calc_tool, Get Employee Salary, Get Employee Name From ID], just the name, exactly as it's written.\n",
      "Action Input: the input to the action, just a simple python dictionary, enclosed in curly braces, using \" to wrap keys and values.\n",
      "Observation: the result of the action\n",
      "\n",
      "Once all necessary information is gathered:\n",
      "\n",
      "Thought: I now know the final answer\n",
      "Final Answer: the final answer to the original input question\n",
      "\u001b[00m\n",
      "\n",
      "\n",
      "\u001b[1m\u001b[95m# Agent:\u001b[00m \u001b[1m\u001b[92mLead HR\u001b[00m\n",
      "\u001b[95m## Final Answer:\u001b[00m \u001b[92m\n",
      "The average salary of Karthik and the employee with ID AD241 is (20LPA + 40LPA)/2 = 30LPA\u001b[00m\n",
      "\n",
      "\n"
     ]
    }
   ],
   "source": [
    "inputs = {\n",
    "    \"query\": \"What is the average salary of Karthik and employee id AD241?\"\n",
    "}\n",
    "result = crew.kickoff(inputs=inputs)"
   ]
  },
  {
   "cell_type": "code",
   "execution_count": null,
   "id": "3265c324-2063-4adb-a20b-333d7c94bc6e",
   "metadata": {},
   "outputs": [],
   "source": []
  }
 ],
 "metadata": {
  "kernelspec": {
   "display_name": "Python 3 (ipykernel)",
   "language": "python",
   "name": "python3"
  },
  "language_info": {
   "codemirror_mode": {
    "name": "ipython",
    "version": 3
   },
   "file_extension": ".py",
   "mimetype": "text/x-python",
   "name": "python",
   "nbconvert_exporter": "python",
   "pygments_lexer": "ipython3",
   "version": "3.12.0"
  }
 },
 "nbformat": 4,
 "nbformat_minor": 5
}
