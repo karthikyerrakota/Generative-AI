{
 "cells": [
  {
   "cell_type": "code",
   "execution_count": 1,
   "id": "547c9a40-3ada-4b34-94d1-cb82073cb170",
   "metadata": {},
   "outputs": [],
   "source": [
    "# Warning control\n",
    "import warnings\n",
    "warnings.filterwarnings('ignore')"
   ]
  },
  {
   "cell_type": "code",
   "execution_count": 23,
   "id": "52dfeb13-dce6-4227-816a-9ee7e6f81809",
   "metadata": {},
   "outputs": [],
   "source": [
    "from crewai import Agent, Task , Crew, LLM\n",
    "from langchain_openai import ChatOpenAI"
   ]
  },
  {
   "cell_type": "code",
   "execution_count": 26,
   "id": "430b2809-23ac-41b3-9948-6de3a69dcf62",
   "metadata": {},
   "outputs": [],
   "source": [
    "openai_api_key = 'your-openai-api-key' # or load from .env file\n",
    "model_name = 'gpt-3.5-turbo'\n",
    "\n",
    "llm = LLM(model=model_name,api_key=openai_api_key)"
   ]
  },
  {
   "cell_type": "markdown",
   "id": "91ca1922-6c55-467d-a345-54b3c8851bc2",
   "metadata": {},
   "source": [
    "### Plan"
   ]
  },
  {
   "cell_type": "code",
   "execution_count": 27,
   "id": "3e92e839-fd0b-4dcd-acad-32d1942511ff",
   "metadata": {},
   "outputs": [],
   "source": [
    "# We will create 3 agents for the Research writing task : Planner Agent, Writer Agent, Editor Agent.\n",
    "planner = Agent(\n",
    "    role = 'Content Planner',\n",
    "    goal = 'Plan engaging and factually accurate content on {topic}',\n",
    "    backstory=\"You're working on planning a blog article \"\n",
    "              \"about the topic: {topic}.\"\n",
    "              \"You collect information that helps the \"\n",
    "              \"audience learn something \"\n",
    "              \"and make informed decisions. \"\n",
    "              \"Your work is the basis for \"\n",
    "              \"the Content Writer to write an article on this topic.\",\n",
    "    allow_delegation=False,\n",
    "\tverbose=True,\n",
    "    llm=llm\n",
    ")\n",
    "\n",
    "writer = Agent(\n",
    "    role=\"Content Writer\",\n",
    "    goal=\"Write insightful and factually accurate \"\n",
    "         \"opinion piece about the topic: {topic}\",\n",
    "    backstory=\"You're working on a writing \"\n",
    "              \"a new opinion piece about the topic: {topic}. \"\n",
    "              \"You base your writing on the work of \"\n",
    "              \"the Content Planner, who provides an outline \"\n",
    "              \"and relevant context about the topic. \"\n",
    "              \"You follow the main objectives and \"\n",
    "              \"direction of the outline, \"\n",
    "              \"as provide by the Content Planner. \"\n",
    "              \"You also provide objective and impartial insights \"\n",
    "              \"and back them up with information \"\n",
    "              \"provide by the Content Planner. \"\n",
    "              \"You acknowledge in your opinion piece \"\n",
    "              \"when your statements are opinions \"\n",
    "              \"as opposed to objective statements.\",\n",
    "    allow_delegation=False,\n",
    "    verbose=True,\n",
    "    llm=llm\n",
    ")\n",
    "\n",
    "editor = Agent(\n",
    "    role=\"Editor\",\n",
    "    goal=\"Edit a given blog post to align with \"\n",
    "         \"the writing style of the organization. \",\n",
    "    backstory=\"You are an editor who receives a blog post \"\n",
    "              \"from the Content Writer. \"\n",
    "              \"Your goal is to review the blog post \"\n",
    "              \"to ensure that it follows journalistic best practices,\"\n",
    "              \"provides balanced viewpoints \"\n",
    "              \"when providing opinions or assertions, \"\n",
    "              \"and also avoids major controversial topics \"\n",
    "              \"or opinions when possible.\",\n",
    "    allow_delegation=False,\n",
    "    verbose=True,\n",
    "    llm=llm\n",
    ")"
   ]
  },
  {
   "cell_type": "markdown",
   "id": "c48d39d8-9825-403d-b1c1-d951d65df46b",
   "metadata": {},
   "source": [
    "### Tasks"
   ]
  },
  {
   "cell_type": "code",
   "execution_count": 28,
   "id": "db9ea770-0afd-4b8e-b28e-c3632bf3df86",
   "metadata": {},
   "outputs": [],
   "source": [
    "plan = Task(\n",
    "    description=(\n",
    "        \"1. Prioritize the latest trends, key players, \"\n",
    "            \"and noteworthy news on {topic}.\\n\"\n",
    "        \"2. Identify the target audience, considering \"\n",
    "            \"their interests and pain points.\\n\"\n",
    "        \"3. Develop a detailed content outline including \"\n",
    "            \"an introduction, key points, and a call to action.\\n\"\n",
    "        \"4. Include SEO keywords and relevant data or sources.\"\n",
    "    ),\n",
    "    expected_output=\"A comprehensive content plan document \"\n",
    "        \"with an outline, audience analysis, \"\n",
    "        \"SEO keywords, and resources.\",\n",
    "    agent=planner,\n",
    ")\n",
    "\n",
    "write = Task(\n",
    "    description=(\n",
    "        \"1. Use the content plan to craft a compelling \"\n",
    "            \"blog post on {topic}.\\n\"\n",
    "        \"2. Incorporate SEO keywords naturally.\\n\"\n",
    "\t\t\"3. Sections/Subtitles are properly named \"\n",
    "            \"in an engaging manner.\\n\"\n",
    "        \"4. Ensure the post is structured with an \"\n",
    "            \"engaging introduction, insightful body, \"\n",
    "            \"and a summarizing conclusion.\\n\"\n",
    "        \"5. Proofread for grammatical errors and \"\n",
    "            \"alignment with the brand's voice.\\n\"\n",
    "    ),\n",
    "    expected_output=\"A well-written blog post \"\n",
    "        \"in markdown format, ready for publication, \"\n",
    "        \"each section should have 2 or 3 paragraphs.\",\n",
    "    agent=writer,\n",
    ")\n",
    "\n",
    "edit = Task(\n",
    "    description=(\"Proofread the given blog post for \"\n",
    "                 \"grammatical errors and \"\n",
    "                 \"alignment with the brand's voice.\"),\n",
    "    expected_output=\"A well-written blog post in markdown format, \"\n",
    "                    \"ready for publication, \"\n",
    "                    \"each section should have 2 or 3 paragraphs.\",\n",
    "    agent=editor\n",
    ")"
   ]
  },
  {
   "cell_type": "markdown",
   "id": "d5c6d425-1bf9-4b9e-8afd-541da6849f89",
   "metadata": {},
   "source": [
    "### Crew"
   ]
  },
  {
   "cell_type": "code",
   "execution_count": 29,
   "id": "604cbbc4-9220-48c5-9b3d-ff189d7e183c",
   "metadata": {},
   "outputs": [
    {
     "name": "stderr",
     "output_type": "stream",
     "text": [
      "WARNING:opentelemetry.trace:Overriding of current TracerProvider is not allowed\n"
     ]
    }
   ],
   "source": [
    "crew = Crew(\n",
    "    agents=[planner, writer, editor],\n",
    "    tasks=[plan, write, edit],\n",
    "    verbose=True,\n",
    ")"
   ]
  },
  {
   "cell_type": "code",
   "execution_count": 30,
   "id": "a5d92b68-52a1-49b4-87df-e687bcb7f965",
   "metadata": {},
   "outputs": [
    {
     "name": "stdout",
     "output_type": "stream",
     "text": [
      "\u001b[1m\u001b[95m# Agent:\u001b[00m \u001b[1m\u001b[92mContent Planner\u001b[00m\n",
      "\u001b[95m## Task:\u001b[00m \u001b[92m1. Prioritize the latest trends, key players, and noteworthy news on T20 Cricket Worldcup 2024..\n",
      "2. Identify the target audience, considering their interests and pain points.\n",
      "3. Develop a detailed content outline including an introduction, key points, and a call to action.\n",
      "4. Include SEO keywords and relevant data or sources.\u001b[00m\n",
      "\n",
      "\n",
      "\u001b[1m\u001b[95m# Agent:\u001b[00m \u001b[1m\u001b[92mContent Planner\u001b[00m\n",
      "\u001b[95m## Final Answer:\u001b[00m \u001b[92m\n",
      "Content Plan Document:\n",
      "\n",
      "Title: T20 Cricket Worldcup 2024: Latest Trends, Key Players, and Noteworthy News\n",
      "\n",
      "Outline:\n",
      "I. Introduction\n",
      "    A. Brief overview of the T20 Cricket Worldcup 2024\n",
      "II. Latest Trends in T20 Cricket Worldcup 2024\n",
      "    A. Analysis of new playing strategies\n",
      "    B. Impact of technology on the game\n",
      "III. Key Players to Watch Out For\n",
      "    A. Top batsmen and bowlers\n",
      "    B. Emerging talents in the tournament\n",
      "IV. Noteworthy News Updates\n",
      "    A. Schedule changes and updates\n",
      "    B. Team injuries and replacements\n",
      "V. Target Audience Analysis\n",
      "    A. Cricket enthusiasts looking for tournament insights\n",
      "    B. Fantasy cricket players seeking player performance analysis\n",
      "VI. SEO Keywords: T20 Cricket Worldcup 2024, Key Players, Latest Trends, Noteworthy News, Cricket Updates\n",
      "VII. Resources:\n",
      "    A. Official T20 Cricket Worldcup website\n",
      "    B. Cricket analysts and experts' opinions\n",
      "    C. Player statistics from reliable sports platforms\n",
      "\n",
      "Audience Analysis:\n",
      "The target audience for this blog article includes cricket fans and enthusiasts who are interested in staying updated on the T20 Cricket Worldcup 2024. These individuals are likely to follow the tournament closely, participate in fantasy cricket leagues, and engage with cricket-related content online. They are looking for comprehensive insights into the latest trends, key players, and noteworthy news to enhance their viewing experience and understanding of the tournament.\n",
      "\n",
      "Call to Action:\n",
      "Stay tuned for our upcoming articles for in-depth coverage of the T20 Cricket Worldcup 2024, including match previews, player interviews, and post-match analysis. Keep following us for all the exciting updates and insights related to the tournament.\n",
      "\n",
      "This content plan aims to provide valuable and engaging information to the target audience while incorporating relevant SEO keywords and utilizing credible resources for accurate and up-to-date data on the T20 Cricket Worldcup 2024.\u001b[00m\n",
      "\n",
      "\n",
      "\u001b[1m\u001b[95m# Agent:\u001b[00m \u001b[1m\u001b[92mContent Writer\u001b[00m\n",
      "\u001b[95m## Task:\u001b[00m \u001b[92m1. Use the content plan to craft a compelling blog post on T20 Cricket Worldcup 2024..\n",
      "2. Incorporate SEO keywords naturally.\n",
      "3. Sections/Subtitles are properly named in an engaging manner.\n",
      "4. Ensure the post is structured with an engaging introduction, insightful body, and a summarizing conclusion.\n",
      "5. Proofread for grammatical errors and alignment with the brand's voice.\n",
      "\u001b[00m\n",
      "\n",
      "\n",
      "\u001b[1m\u001b[95m# Agent:\u001b[00m \u001b[1m\u001b[92mContent Writer\u001b[00m\n",
      "\u001b[95m## Final Answer:\u001b[00m \u001b[92m\n",
      "# T20 Cricket Worldcup 2024: Latest Trends, Key Players, and Noteworthy News\n",
      "\n",
      "## Introduction\n",
      "The T20 Cricket Worldcup 2024 has already captured the attention of cricket enthusiasts worldwide. As the tournament progresses, fans are witnessing an array of thrilling matches and remarkable performances on the field. This edition of the T20 Worldcup promises to be a spectacle with teams showcasing their skills and strategies to claim the coveted title.\n",
      "\n",
      "## Latest Trends in T20 Cricket Worldcup 2024\n",
      "In this year's tournament, we have observed a shift in playing strategies that emphasize aggressive batting and innovative bowling techniques. Teams are increasingly focusing on power-hitting and clever variations in bowling to outsmart their opponents. Moreover, the influence of technology on the game has become more pronounced, with advanced analytics and tools aiding players and coaches in making strategic decisions that could be the differentiating factor in crucial moments.\n",
      "\n",
      "## Key Players to Watch Out For\n",
      "When it comes to key players, the T20 Cricket Worldcup 2024 boasts a lineup of exceptional talent. From top-class batsmen who consistently deliver under pressure to skillful bowlers who can change the course of a match with their precision, the tournament is brimming with excitement. Additionally, there are emerging talents making their mark on the international stage, ready to showcase their abilities and leave a lasting impression on fans and critics alike.\n",
      "\n",
      "## Noteworthy News Updates\n",
      "Amidst the fierce competition on the field, there have been several noteworthy news updates surrounding the T20 Cricket Worldcup 2024. From unexpected schedule changes to crucial team injuries that have led to last-minute replacements, the tournament has been full of surprises and drama. Staying informed about these updates is crucial for fans to understand the evolving dynamics of the competition.\n",
      "\n",
      "## Target Audience Analysis\n",
      "For cricket enthusiasts seeking valuable insights into the T20 Cricket Worldcup 2024, this blog post aims to provide comprehensive coverage of the latest trends, key players, and notable news developments. Whether you are a passionate follower of the sport or a fantasy cricket player looking for in-depth player analysis, this article caters to your need for engaging and informative content that enhances your overall tournament experience.\n",
      "\n",
      "## Call to Action\n",
      "As the T20 Cricket Worldcup 2024 unfolds, stay connected with us for more detailed match previews, exclusive player interviews, and insightful post-match analysis. Our upcoming articles will offer a deeper dive into the tournament, ensuring you remain updated with all the exciting news and developments. Keep following us for a complete coverage of the T20 Cricket Worldcup 2024.\n",
      "\n",
      "As the T20 Cricket Worldcup 2024 continues to enthrall audiences around the globe, the blend of skill, strategy, and excitement on display makes it a must-watch event for cricket fans of all ages. Embrace the thrill of this prestigious tournament and witness history in the making as teams battle it out for cricketing glory!\u001b[00m\n",
      "\n",
      "\n",
      "\u001b[1m\u001b[95m# Agent:\u001b[00m \u001b[1m\u001b[92mEditor\u001b[00m\n",
      "\u001b[95m## Task:\u001b[00m \u001b[92mProofread the given blog post for grammatical errors and alignment with the brand's voice.\u001b[00m\n",
      "\n",
      "\n",
      "\u001b[1m\u001b[95m# Agent:\u001b[00m \u001b[1m\u001b[92mEditor\u001b[00m\n",
      "\u001b[95m## Final Answer:\u001b[00m \u001b[92m\n",
      "# T20 Cricket Worldcup 2024: Latest Trends, Key Players, and Noteworthy News\n",
      "\n",
      "## Introduction\n",
      "The T20 Cricket Worldcup 2024 has already captivated cricket enthusiasts worldwide with its array of thrilling matches and remarkable performances. Expectations are high as teams compete to claim the coveted title, promising fans a spectacle of skills and strategies on the field.\n",
      "\n",
      "## Latest Trends in T20 Cricket Worldcup 2024\n",
      "This year's tournament showcases a shift in playing strategies towards aggressive batting and innovative bowling techniques. Teams are focusing on power-hitting and strategic bowling variations to outwit their opponents. The impact of technology on the game is more prominent, with advanced analytics and tools aiding players and coaches in making crucial strategic decisions.\n",
      "\n",
      "## Key Players to Watch Out For\n",
      "The T20 Cricket Worldcup 2024 features a lineup of exceptional talent, from top-class batsmen to skillful bowlers. The tournament is filled with excitement as these players deliver under pressure and showcase their abilities. Emerging talents are also making their mark, ready to impress fans and critics alike on the international stage.\n",
      "\n",
      "## Noteworthy News Updates\n",
      "Amid intense competition, the T20 Cricket Worldcup 2024 has been full of surprises with unexpected schedule changes and crucial team injuries leading to last-minute replacements. Staying informed about these updates is essential for fans to understand the evolving dynamics of the competition.\n",
      "\n",
      "## Target Audience Analysis\n",
      "This blog post is tailored for cricket enthusiasts seeking valuable insights into the T20 Cricket Worldcup 2024. Whether you are a passionate follower of the sport or a fantasy cricket player looking for in-depth analysis, this article provides engaging and informative content to enhance your tournament experience.\n",
      "\n",
      "## Call to Action\n",
      "As the T20 Cricket Worldcup 2024 unfolds, stay connected with us for detailed match previews, exclusive player interviews, and insightful post-match analysis. Our upcoming articles will delve deeper into the tournament, ensuring you stay updated with all the news and developments. Follow us for complete coverage of the T20 Cricket Worldcup 2024.\n",
      "\n",
      "The T20 Cricket Worldcup 2024 continues to enthrall audiences worldwide. Witness the blend of skill, strategy, and excitement as teams battle it out for cricketing glory. Embrace the thrill of this prestigious tournament and be part of history in the making!\u001b[00m\n",
      "\n",
      "\n"
     ]
    }
   ],
   "source": [
    "result = crew.kickoff(inputs={\"topic\": \"T20 Cricket Worldcup 2024.\"})"
   ]
  },
  {
   "cell_type": "code",
   "execution_count": 34,
   "id": "8ab5a974-5886-40e9-a820-c3cc9fc8aab9",
   "metadata": {},
   "outputs": [
    {
     "data": {
      "text/markdown": [
       "# T20 Cricket Worldcup 2024: Latest Trends, Key Players, and Noteworthy News\n",
       "\n",
       "## Introduction\n",
       "The T20 Cricket Worldcup 2024 has already captivated cricket enthusiasts worldwide with its array of thrilling matches and remarkable performances. Expectations are high as teams compete to claim the coveted title, promising fans a spectacle of skills and strategies on the field.\n",
       "\n",
       "## Latest Trends in T20 Cricket Worldcup 2024\n",
       "This year's tournament showcases a shift in playing strategies towards aggressive batting and innovative bowling techniques. Teams are focusing on power-hitting and strategic bowling variations to outwit their opponents. The impact of technology on the game is more prominent, with advanced analytics and tools aiding players and coaches in making crucial strategic decisions.\n",
       "\n",
       "## Key Players to Watch Out For\n",
       "The T20 Cricket Worldcup 2024 features a lineup of exceptional talent, from top-class batsmen to skillful bowlers. The tournament is filled with excitement as these players deliver under pressure and showcase their abilities. Emerging talents are also making their mark, ready to impress fans and critics alike on the international stage.\n",
       "\n",
       "## Noteworthy News Updates\n",
       "Amid intense competition, the T20 Cricket Worldcup 2024 has been full of surprises with unexpected schedule changes and crucial team injuries leading to last-minute replacements. Staying informed about these updates is essential for fans to understand the evolving dynamics of the competition.\n",
       "\n",
       "## Target Audience Analysis\n",
       "This blog post is tailored for cricket enthusiasts seeking valuable insights into the T20 Cricket Worldcup 2024. Whether you are a passionate follower of the sport or a fantasy cricket player looking for in-depth analysis, this article provides engaging and informative content to enhance your tournament experience.\n",
       "\n",
       "## Call to Action\n",
       "As the T20 Cricket Worldcup 2024 unfolds, stay connected with us for detailed match previews, exclusive player interviews, and insightful post-match analysis. Our upcoming articles will delve deeper into the tournament, ensuring you stay updated with all the news and developments. Follow us for complete coverage of the T20 Cricket Worldcup 2024.\n",
       "\n",
       "The T20 Cricket Worldcup 2024 continues to enthrall audiences worldwide. Witness the blend of skill, strategy, and excitement as teams battle it out for cricketing glory. Embrace the thrill of this prestigious tournament and be part of history in the making!"
      ],
      "text/plain": [
       "<IPython.core.display.Markdown object>"
      ]
     },
     "execution_count": 34,
     "metadata": {},
     "output_type": "execute_result"
    }
   ],
   "source": [
    "from IPython.display import Markdown\n",
    "Markdown(result.raw)\n"
   ]
  },
  {
   "cell_type": "code",
   "execution_count": null,
   "id": "c67bcdef-06b4-4c61-9acb-7070715610b5",
   "metadata": {},
   "outputs": [],
   "source": []
  }
 ],
 "metadata": {
  "kernelspec": {
   "display_name": "Python 3 (ipykernel)",
   "language": "python",
   "name": "python3"
  },
  "language_info": {
   "codemirror_mode": {
    "name": "ipython",
    "version": 3
   },
   "file_extension": ".py",
   "mimetype": "text/x-python",
   "name": "python",
   "nbconvert_exporter": "python",
   "pygments_lexer": "ipython3",
   "version": "3.12.0"
  }
 },
 "nbformat": 4,
 "nbformat_minor": 5
}
